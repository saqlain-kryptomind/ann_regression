{
 "cells": [
  {
   "cell_type": "code",
   "execution_count": 2,
   "id": "5c0e450b-d578-4710-bbe9-19cf391b5378",
   "metadata": {},
   "outputs": [],
   "source": [
    "import pandas as pd\n",
    "import numpy as np\n",
    "import torch\n",
    "import torch.nn as nn\n",
    "import torch.optim as optim\n",
    "from sklearn.model_selection import train_test_split\n",
    "from sklearn.preprocessing import StandardScaler\n",
    "from sklearn.metrics import mean_absolute_error\n",
    "import matplotlib.pyplot as plt"
   ]
  },
  {
   "cell_type": "code",
   "execution_count": 12,
   "id": "59e624d3-515f-4a4d-966a-70de91dac2f5",
   "metadata": {},
   "outputs": [
    {
     "name": "stdout",
     "output_type": "stream",
     "text": [
      "Data loaded successfully.\n"
     ]
    }
   ],
   "source": [
    "try:\n",
    "    data = pd.read_csv('insurance.csv')\n",
    "    print(\"Data loaded successfully.\")\n",
    "except Exception as e:\n",
    "    print(f\"Error loading data: {e}\")"
   ]
  },
  {
   "cell_type": "code",
   "execution_count": 14,
   "id": "9845e723-8dd5-496b-aa47-fc6c7dbe0cd1",
   "metadata": {},
   "outputs": [
    {
     "name": "stdout",
     "output_type": "stream",
     "text": [
      "   age     sex     bmi  children smoker     region      charges\n",
      "0   19  female  27.900         0    yes  southwest  16884.92400\n",
      "1   18    male  33.770         1     no  southeast   1725.55230\n",
      "2   28    male  33.000         3     no  southeast   4449.46200\n",
      "3   33    male  22.705         0     no  northwest  21984.47061\n",
      "4   32    male  28.880         0     no  northwest   3866.85520\n",
      "Data preprocessing completed successfully.\n"
     ]
    }
   ],
   "source": [
    "try:\n",
    "    print(data.head())\n",
    "\n",
    "    if data.isnull().sum().any():\n",
    "        data.fillna(data.mean(), inplace=True)\n",
    "    \n",
    "    # Convert categorical columns to numeric values\n",
    "    data['sex'] = data['sex'].map({'male': 0, 'female': 1})\n",
    "    data['smoker'] = data['smoker'].map({'no': 0, 'yes': 1})\n",
    "    data['region'] = data['region'].map({\n",
    "        'southwest': 0, 'southeast': 1, 'northwest': 2, 'northeast': 3\n",
    "    })\n",
    "\n",
    "    X = data.drop('charges', axis=1)\n",
    "    y = data['charges']\n",
    "\n",
    "    # Normalize the features\n",
    "    scaler = StandardScaler()\n",
    "    X_scaled = scaler.fit_transform(X)\n",
    "\n",
    "    # Split the data into training and testing sets\n",
    "    X_train, X_test, y_train, y_test = train_test_split(X_scaled, y, test_size=0.2, random_state=42)\n",
    "\n",
    "    # Convert the data to PyTorch tensors\n",
    "    X_train_tensor = torch.tensor(X_train, dtype=torch.float32)\n",
    "    X_test_tensor = torch.tensor(X_test, dtype=torch.float32)\n",
    "    y_train_tensor = torch.tensor(y_train.values, dtype=torch.float32).view(-1, 1)\n",
    "    y_test_tensor = torch.tensor(y_test.values, dtype=torch.float32).view(-1, 1)\n",
    "\n",
    "    print(\"Data preprocessing completed successfully.\")\n",
    "except Exception as e:\n",
    "    print(f\"Error during data preprocessing: {e}\")\n"
   ]
  },
  {
   "cell_type": "code",
   "execution_count": 16,
   "id": "b2667f83-946c-4b79-a6a3-6dc60de4af3f",
   "metadata": {},
   "outputs": [],
   "source": [
    "class ANNModel(nn.Module):\n",
    "    def __init__(self):\n",
    "        super(ANNModel, self).__init__()\n",
    "        self.layer1 = nn.Linear(X_train.shape[1], 64)\n",
    "        self.layer2 = nn.Linear(64, 32)\n",
    "        self.output = nn.Linear(32, 1)\n",
    "\n",
    "    def forward(self, x):\n",
    "        x = torch.relu(self.layer1(x))\n",
    "        x = torch.relu(self.layer2(x))\n",
    "        return self.output(x)\n",
    "\n",
    "# Create the model instance\n",
    "model = ANNModel()\n"
   ]
  },
  {
   "cell_type": "code",
   "execution_count": 18,
   "id": "e97630d4-5fac-4292-a9e4-b76cc91740d2",
   "metadata": {},
   "outputs": [
    {
     "name": "stdout",
     "output_type": "stream",
     "text": [
      "Epoch [10/100], Loss: 457579968.0000\n",
      "Epoch [20/100], Loss: 177841552.0000\n",
      "Epoch [30/100], Loss: 71232968.0000\n",
      "Epoch [40/100], Loss: 102379984.0000\n",
      "Epoch [50/100], Loss: 23191518.0000\n",
      "Epoch [60/100], Loss: 14268650.0000\n",
      "Epoch [70/100], Loss: 49366644.0000\n",
      "Epoch [80/100], Loss: 51713524.0000\n",
      "Epoch [90/100], Loss: 16217547.0000\n",
      "Epoch [100/100], Loss: 17963674.0000\n"
     ]
    }
   ],
   "source": [
    "try:\n",
    "    loss_fn = nn.MSELoss()\n",
    "    optimizer = optim.Adam(model.parameters(), lr=0.001)\n",
    "\n",
    "    # Set the number of epochs and batch size\n",
    "    epochs = 100\n",
    "    batch_size = 32\n",
    "\n",
    "    # Training loop\n",
    "    for epoch in range(epochs):\n",
    "        model.train()\n",
    "\n",
    "        # Shuffle the training data\n",
    "        perm = torch.randperm(X_train_tensor.size(0))\n",
    "        for i in range(0, len(perm), batch_size):\n",
    "            batch_indices = perm[i:i + batch_size]\n",
    "            X_batch, y_batch = X_train_tensor[batch_indices], y_train_tensor[batch_indices]\n",
    "\n",
    "            # Zero the gradients\n",
    "            optimizer.zero_grad()\n",
    "\n",
    "            # Forward pass\n",
    "            predictions = model(X_batch)\n",
    "\n",
    "            # Compute the loss\n",
    "            loss = loss_fn(predictions, y_batch)\n",
    "\n",
    "            # Backward pass\n",
    "            loss.backward()\n",
    "\n",
    "            # Update the weights\n",
    "            optimizer.step()\n",
    "\n",
    "        if (epoch + 1) % 10 == 0:\n",
    "            print(f\"Epoch [{epoch+1}/{epochs}], Loss: {loss.item():.4f}\")\n",
    "\n",
    "except Exception as e:\n",
    "    print(f\"Error during model training: {e}\")\n"
   ]
  },
  {
   "cell_type": "code",
   "execution_count": 19,
   "id": "44194164-34fc-4bfd-94ce-81be482e219d",
   "metadata": {},
   "outputs": [
    {
     "name": "stdout",
     "output_type": "stream",
     "text": [
      "Test Mean Absolute Error (MAE): 3860.22\n",
      "Predictions: [[ 8228.564 ]\n",
      " [ 5974.1772]\n",
      " [38095.934 ]\n",
      " [ 7983.44  ]\n",
      " [26071.08  ]]\n",
      "True Values: [[ 9095.068]\n",
      " [ 5272.176]\n",
      " [29330.982]\n",
      " [ 9301.894]\n",
      " [33750.293]]\n"
     ]
    },
    {
     "data": {
      "image/png": "[encoded data removed]",
      "text/plain": [
       "<Figure size 640x480 with 1 Axes>"
      ]
     },
     "metadata": {},
     "output_type": "display_data"
    }
   ],
   "source": [
    "try:\n",
    "    # Evaluate the model on the test set\n",
    "    model.eval()  # Set the model to evaluation mode\n",
    "    with torch.no_grad():\n",
    "        y_pred = model(X_test_tensor)\n",
    "\n",
    "    # Calculate Mean Absolute Error\n",
    "    mae = mean_absolute_error(y_test_tensor.numpy(), y_pred.numpy())\n",
    "    print(f\"Test Mean Absolute Error (MAE): {mae:.2f}\")\n",
    "\n",
    "    # Display the first few predictions and true values\n",
    "    print(f\"Predictions: {y_pred[:5].numpy()}\")\n",
    "    print(f\"True Values: {y_test_tensor[:5].numpy()}\")\n",
    "except Exception as e:\n",
    "    print(f\"Error during evaluation: {e}\")\n",
    "\n",
    "# Visualize the results\n",
    "try:\n",
    "    # Plot predicted vs true values\n",
    "    plt.scatter(y_test_tensor.numpy(), y_pred.numpy(), color='blue')\n",
    "    plt.xlabel('True Values')\n",
    "    plt.ylabel('Predicted Values')\n",
    "    plt.title('True vs Predicted Medical Charges')\n",
    "    plt.show()\n",
    "\n",
    "except Exception as e:\n",
    "    print(f\"Error during visualization: {e}\")\n"
   ]
  },
  {
   "cell_type": "code",
   "execution_count": null,
   "id": "b2f630cd-a7f0-4dcd-a8aa-8eb006b980d8",
   "metadata": {},
   "outputs": [],
   "source": []
  }
 ],
 "metadata": {
  "kernelspec": {
   "display_name": "Python 3 (ipykernel)",
   "language": "python",
   "name": "python3"
  },
  "language_info": {
   "codemirror_mode": {
    "name": "ipython",
    "version": 3
   },
   "file_extension": ".py",
   "mimetype": "text/x-python",
   "name": "python",
   "nbconvert_exporter": "python",
   "pygments_lexer": "ipython3",
   "version": "3.12.7"
  }
 },
 "nbformat": 4,
 "nbformat_minor": 5
}
